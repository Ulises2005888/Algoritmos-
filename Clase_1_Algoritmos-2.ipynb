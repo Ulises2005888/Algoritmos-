{
  "nbformat": 4,
  "nbformat_minor": 0,
  "metadata": {
    "colab": {
      "provenance": []
    },
    "kernelspec": {
      "name": "python3",
      "display_name": "Python 3"
    },
    "language_info": {
      "name": "python"
    }
  },
  "cells": [
    {
      "cell_type": "markdown",
      "source": [
        "#Introducción a Python\n",
        "\n",
        "En esencia, Python es:\n",
        "Un lenguaje de programación: Es un conjunto de reglas y palabras clave que usamos para escribir instrucciones para la computadora.\n",
        "De alto nivel: Esto significa que su lenguaje es más cercano al lenguaje humano y más fácil de entender que otros lenguajes de programación más complejos.\n",
        "Interpretado: Python se ejecuta línea por línea, sin necesidad de traducirlo a lenguaje de máquina antes de ejecutarlo, lo que lo hace más flexible y fácil de depurar.\n",
        "De propósito general: Se usa en una variedad de campos, desde el desarrollo web hasta la ciencia de datos y la inteligencia artificial.\n",
        "Analogía:\n",
        "Imagina que tienes un perro muy inteligente. Puedes enseñarle trucos usando comandos específicos. Python es como el conjunto de comandos que usas para \"enseñarle\" a la computadora a realizar tareas. Tú escribes el código (las instrucciones) y la computadora las \"obedece\".\n",
        "¿Por qué Python es popular?\n",
        "Fácil de aprender: Su sintaxis es clara y legible, lo que lo hace relativamente fácil de aprender, especialmente para principiantes.\n",
        "Versátil: Se puede utilizar para muchas cosas, desde crear sitios web hasta analizar datos y automatizar tareas.\n",
        "Gran comunidad: Tiene una gran comunidad de usuarios y desarrolladores que crean herramientas, bibliotecas y recursos que facilitan el aprendizaje y el trabajo con\n",
        "\n",
        "1.   Elemento de la lista\n",
        "2.   Elemento de la lista\n",
        "\n",
        "Python.\n",
        "\n",
        "\n",
        "---\n",
        "##Algunos objetos en Python\n",
        "###Números y strings\n",
        "\n",
        "\n",
        "\n",
        "*   int, float  Par, impar\n",
        "*   str  Cadena de palabras\n",
        "\n",
        "Nota: es posible escribir en latex\n",
        "La siguiente integral es de gran importancia\n",
        "\n",
        "$$\\int_{-\\infty}^{\\infty}e^{-\\frac{x^2}{2}}dx=\\sqrt{2\\pi}$$\n",
        "\n",
        "---\n",
        "\n",
        "##Operaciones básicas entre números\n",
        "\n",
        "\n",
        "1.   $+,-$ Suma, resta\n",
        "2.   $*,**$  Multiplicación, exponente\n",
        "3.   $/,//$ División, División al piso\n",
        "4.   $\\%$ Operación modular, te da el residuo de las divisiones\n",
        "---\n",
        "\n",
        "##Python tiene funciones integradas\n",
        "Vamos a ver dos funciones\n",
        "\n",
        "\n",
        "\n",
        "1.   print\n",
        "2.   type\n",
        "\n",
        "\n",
        "\n",
        "\n",
        "\n",
        "\n",
        "\n"
      ],
      "metadata": {
        "id": "-ZBYvG4JoLg1"
      }
    },
    {
      "cell_type": "code",
      "execution_count": 24,
      "metadata": {
        "id": "jORvDO5ynMGG"
      },
      "outputs": [],
      "source": [
        "#Vamos a creae dos variables int\n",
        "\n",
        "x=5\n",
        "\n",
        "y=2\n",
        "\n"
      ]
    },
    {
      "cell_type": "code",
      "source": [
        "print(\"Hola mundo!\")\n"
      ],
      "metadata": {
        "colab": {
          "base_uri": "https://localhost:8080/"
        },
        "id": "n9SMSfCtzVyf",
        "outputId": "7c89b41e-709c-46c4-87d5-07329ca09b6b"
      },
      "execution_count": 25,
      "outputs": [
        {
          "output_type": "stream",
          "name": "stdout",
          "text": [
            "Hola mundo!\n"
          ]
        }
      ]
    },
    {
      "cell_type": "code",
      "source": [
        "print(f\"El residuo de {x} entre {y} es {x%y}\")"
      ],
      "metadata": {
        "colab": {
          "base_uri": "https://localhost:8080/"
        },
        "id": "2kO6_b8Z0dwp",
        "outputId": "6d4b00cd-465f-4cbf-f4ee-ca156546b7e5"
      },
      "execution_count": 26,
      "outputs": [
        {
          "output_type": "stream",
          "name": "stdout",
          "text": [
            "El residuo de 5 entre 2 es 1\n"
          ]
        }
      ]
    },
    {
      "cell_type": "markdown",
      "source": [
        "##Listas\n",
        "\n",
        "Una lista es un objeto de la forma:\n",
        "\n",
        "\n",
        "$$\\text{Lista} = [e_1, e_2,...,e_n] $$\n",
        "\n",
        "Cada elemento puede ser, a su vez, un objeto.\n",
        "\n",
        "\n",
        "\n"
      ],
      "metadata": {
        "id": "HCHdp26UVX62"
      }
    },
    {
      "cell_type": "code",
      "source": [
        "# Vamos a crear una lista\n",
        "\n",
        "lista = [7, 7.7, \"Victoria\", [1,2,3]]"
      ],
      "metadata": {
        "id": "-euMZJ5bXTw1"
      },
      "execution_count": 27,
      "outputs": []
    },
    {
      "cell_type": "code",
      "source": [
        "type(lista)"
      ],
      "metadata": {
        "colab": {
          "base_uri": "https://localhost:8080/"
        },
        "id": "_MiWoDVsY0dF",
        "outputId": "1cc54f36-49bb-4043-fe3c-94281913188a"
      },
      "execution_count": 28,
      "outputs": [
        {
          "output_type": "execute_result",
          "data": {
            "text/plain": [
              "list"
            ]
          },
          "metadata": {},
          "execution_count": 28
        }
      ]
    },
    {
      "cell_type": "markdown",
      "source": [
        "###Etiquetas en Python\n",
        "\n",
        "En Python existe una función que se llama `range(a,b)´ en donde $a$ y $b$ son enteros mayores o iguales a 0. Aquí, $a<b$.\n",
        "\n",
        "\n",
        "\n"
      ],
      "metadata": {
        "id": "2bEBJbcvZYL5"
      }
    },
    {
      "cell_type": "code",
      "source": [
        "range(57)"
      ],
      "metadata": {
        "colab": {
          "base_uri": "https://localhost:8080/"
        },
        "id": "lY7UwQFuaX_k",
        "outputId": "a027eb03-7007-479c-fc35-a5d625c010e7"
      },
      "execution_count": 29,
      "outputs": [
        {
          "output_type": "execute_result",
          "data": {
            "text/plain": [
              "range(0, 57)"
            ]
          },
          "metadata": {},
          "execution_count": 29
        }
      ]
    },
    {
      "cell_type": "code",
      "source": [
        "type(range(57)) # Generador de índices (o etiquetas)"
      ],
      "metadata": {
        "colab": {
          "base_uri": "https://localhost:8080/"
        },
        "id": "h9B2nMqEarmE",
        "outputId": "c58f23f9-b734-4069-dac4-91f93cbf8b53"
      },
      "execution_count": 30,
      "outputs": [
        {
          "output_type": "execute_result",
          "data": {
            "text/plain": [
              "range"
            ]
          },
          "metadata": {},
          "execution_count": 30
        }
      ]
    },
    {
      "cell_type": "code",
      "source": [
        "for i in range(57):\n",
        "  print(i)"
      ],
      "metadata": {
        "colab": {
          "base_uri": "https://localhost:8080/"
        },
        "id": "0J9tAcqJaW--",
        "outputId": "77dc5ede-ff36-4be1-a272-87876ee0a58a"
      },
      "execution_count": 31,
      "outputs": [
        {
          "output_type": "stream",
          "name": "stdout",
          "text": [
            "0\n",
            "1\n",
            "2\n",
            "3\n",
            "4\n",
            "5\n",
            "6\n",
            "7\n",
            "8\n",
            "9\n",
            "10\n",
            "11\n",
            "12\n",
            "13\n",
            "14\n",
            "15\n",
            "16\n",
            "17\n",
            "18\n",
            "19\n",
            "20\n",
            "21\n",
            "22\n",
            "23\n",
            "24\n",
            "25\n",
            "26\n",
            "27\n",
            "28\n",
            "29\n",
            "30\n",
            "31\n",
            "32\n",
            "33\n",
            "34\n",
            "35\n",
            "36\n",
            "37\n",
            "38\n",
            "39\n",
            "40\n",
            "41\n",
            "42\n",
            "43\n",
            "44\n",
            "45\n",
            "46\n",
            "47\n",
            "48\n",
            "49\n",
            "50\n",
            "51\n",
            "52\n",
            "53\n",
            "54\n",
            "55\n",
            "56\n"
          ]
        }
      ]
    },
    {
      "cell_type": "code",
      "source": [
        "for i in range(2,57):\n",
        "  print(i)"
      ],
      "metadata": {
        "colab": {
          "base_uri": "https://localhost:8080/"
        },
        "id": "neWh3NVGcfev",
        "outputId": "68614a39-b790-45a7-9dc7-43ab83208d35"
      },
      "execution_count": 32,
      "outputs": [
        {
          "output_type": "stream",
          "name": "stdout",
          "text": [
            "2\n",
            "3\n",
            "4\n",
            "5\n",
            "6\n",
            "7\n",
            "8\n",
            "9\n",
            "10\n",
            "11\n",
            "12\n",
            "13\n",
            "14\n",
            "15\n",
            "16\n",
            "17\n",
            "18\n",
            "19\n",
            "20\n",
            "21\n",
            "22\n",
            "23\n",
            "24\n",
            "25\n",
            "26\n",
            "27\n",
            "28\n",
            "29\n",
            "30\n",
            "31\n",
            "32\n",
            "33\n",
            "34\n",
            "35\n",
            "36\n",
            "37\n",
            "38\n",
            "39\n",
            "40\n",
            "41\n",
            "42\n",
            "43\n",
            "44\n",
            "45\n",
            "46\n",
            "47\n",
            "48\n",
            "49\n",
            "50\n",
            "51\n",
            "52\n",
            "53\n",
            "54\n",
            "55\n",
            "56\n"
          ]
        }
      ]
    },
    {
      "cell_type": "code",
      "source": [
        "len(lista) # La función len(variable) cuenta el número de elementos que hay\n"
      ],
      "metadata": {
        "colab": {
          "base_uri": "https://localhost:8080/"
        },
        "id": "8Xyw9LeFhBDa",
        "outputId": "c31c7f19-e83d-4622-eacd-fda59631128e"
      },
      "execution_count": 33,
      "outputs": [
        {
          "output_type": "execute_result",
          "data": {
            "text/plain": [
              "4"
            ]
          },
          "metadata": {},
          "execution_count": 33
        }
      ]
    },
    {
      "cell_type": "code",
      "source": [
        "lista[1], type(lista[1])"
      ],
      "metadata": {
        "colab": {
          "base_uri": "https://localhost:8080/"
        },
        "id": "6Gel-UAthfPC",
        "outputId": "e020aaa3-b0da-4162-932a-5c8994468e5b"
      },
      "execution_count": 34,
      "outputs": [
        {
          "output_type": "execute_result",
          "data": {
            "text/plain": [
              "(7.7, float)"
            ]
          },
          "metadata": {},
          "execution_count": 34
        }
      ]
    },
    {
      "cell_type": "code",
      "source": [
        "lista[2], type(lista[2])\n"
      ],
      "metadata": {
        "colab": {
          "base_uri": "https://localhost:8080/"
        },
        "id": "euITTHwEh8hS",
        "outputId": "78ecab9d-43e3-4bb7-a88d-d809af345163"
      },
      "execution_count": 35,
      "outputs": [
        {
          "output_type": "execute_result",
          "data": {
            "text/plain": [
              "('Victoria', str)"
            ]
          },
          "metadata": {},
          "execution_count": 35
        }
      ]
    },
    {
      "cell_type": "code",
      "source": [
        "lista[3], type(lista[3])"
      ],
      "metadata": {
        "colab": {
          "base_uri": "https://localhost:8080/"
        },
        "id": "lCqzN2tuiKYK",
        "outputId": "5c1a5f15-dcbd-4b03-8acd-8b670d2e99fb"
      },
      "execution_count": 36,
      "outputs": [
        {
          "output_type": "execute_result",
          "data": {
            "text/plain": [
              "([1, 2, 3], list)"
            ]
          },
          "metadata": {},
          "execution_count": 36
        }
      ]
    },
    {
      "cell_type": "code",
      "source": [
        "lista[0:2]. #Los : funcionan para poner limites de donde a donde quieres"
      ],
      "metadata": {
        "colab": {
          "base_uri": "https://localhost:8080/"
        },
        "id": "XCrUianvibzg",
        "outputId": "67107140-2f4e-43a3-f449-134c604c954b"
      },
      "execution_count": 37,
      "outputs": [
        {
          "output_type": "execute_result",
          "data": {
            "text/plain": [
              "[7, 7.7]"
            ]
          },
          "metadata": {},
          "execution_count": 37
        }
      ]
    },
    {
      "cell_type": "code",
      "source": [
        "L=[7,7.7, \"Victoria\", [1,2,3]]"
      ],
      "metadata": {
        "id": "lKewedWEsp9m"
      },
      "execution_count": 38,
      "outputs": []
    },
    {
      "cell_type": "markdown",
      "source": [
        "range (a.b) Índices en Python\n",
        "\n",
        "range (21)\n",
        "\n",
        "\n",
        "\n"
      ],
      "metadata": {
        "id": "OvI7iviOrf8E"
      }
    },
    {
      "cell_type": "code",
      "source": [
        "for i in range(21):  #Para que me de lo que tengo guardada en una variable\n",
        "  print(i)"
      ],
      "metadata": {
        "colab": {
          "base_uri": "https://localhost:8080/"
        },
        "id": "6irKVO3JsVCC",
        "outputId": "43c61151-2e8e-4044-ce23-79e86a21dd6a"
      },
      "execution_count": 39,
      "outputs": [
        {
          "output_type": "stream",
          "name": "stdout",
          "text": [
            "0\n",
            "1\n",
            "2\n",
            "3\n",
            "4\n",
            "5\n",
            "6\n",
            "7\n",
            "8\n",
            "9\n",
            "10\n",
            "11\n",
            "12\n",
            "13\n",
            "14\n",
            "15\n",
            "16\n",
            "17\n",
            "18\n",
            "19\n",
            "20\n"
          ]
        }
      ]
    },
    {
      "cell_type": "code",
      "source": [],
      "metadata": {
        "id": "h3gquyHGsj4h"
      },
      "execution_count": 39,
      "outputs": []
    },
    {
      "cell_type": "code",
      "source": [
        "type(L[3][0]) #type sirve para mostrar que tipo de cosa tienes"
      ],
      "metadata": {
        "colab": {
          "base_uri": "https://localhost:8080/"
        },
        "id": "dZJC2lWVskPL",
        "outputId": "d7b76840-febe-4ee1-eefe-6e132e3c3fc0"
      },
      "execution_count": 40,
      "outputs": [
        {
          "output_type": "execute_result",
          "data": {
            "text/plain": [
              "int"
            ]
          },
          "metadata": {},
          "execution_count": 40
        }
      ]
    },
    {
      "cell_type": "markdown",
      "source": [
        "####Algunos atributos de las listas\n",
        "\n",
        "\n"
      ],
      "metadata": {
        "id": "mVa5-4nktdHQ"
      }
    },
    {
      "source": [
        "lista.append(\"Estela\") # Change 'Lista' to 'lista'"
      ],
      "cell_type": "code",
      "metadata": {
        "id": "5YwfKntduj1z"
      },
      "execution_count": 42,
      "outputs": []
    },
    {
      "cell_type": "code",
      "source": [
        "lista"
      ],
      "metadata": {
        "colab": {
          "base_uri": "https://localhost:8080/"
        },
        "id": "7YQnCgQIusRA",
        "outputId": "5d855874-9104-4245-a455-bee22ad172cd"
      },
      "execution_count": 43,
      "outputs": [
        {
          "output_type": "execute_result",
          "data": {
            "text/plain": [
              "[7, 7.7, 'Victoria', [1, 2, 3], 'Estela', 'Estela']"
            ]
          },
          "metadata": {},
          "execution_count": 43
        }
      ]
    },
    {
      "cell_type": "code",
      "source": [
        "L=[x for x in range(21)] #Especificando que me de el nombre de la lista"
      ],
      "metadata": {
        "id": "SfmG1mhAwKbP"
      },
      "execution_count": 47,
      "outputs": []
    },
    {
      "cell_type": "code",
      "source": [
        "[L]"
      ],
      "metadata": {
        "colab": {
          "base_uri": "https://localhost:8080/"
        },
        "id": "4zNJFU-FyTJw",
        "outputId": "693e6ff2-f113-4d79-941b-279b5c55537e"
      },
      "execution_count": 52,
      "outputs": [
        {
          "output_type": "execute_result",
          "data": {
            "text/plain": [
              "[[0, 1, 2, 3, 4, 5, 6, 7, 8, 9, 10, 11, 12, 13, 14, 15, 16, 17, 18, 19, 20]]"
            ]
          },
          "metadata": {},
          "execution_count": 52
        }
      ]
    },
    {
      "cell_type": "code",
      "source": [
        "M=[x for x in range (21) if x%3==0] ##Especificando que me de el nombre de la lista"
      ],
      "metadata": {
        "id": "6teVRwZ3xwcF"
      },
      "execution_count": 50,
      "outputs": []
    },
    {
      "cell_type": "code",
      "source": [
        "[M]"
      ],
      "metadata": {
        "colab": {
          "base_uri": "https://localhost:8080/"
        },
        "id": "SLzvIGVYyOuE",
        "outputId": "d8e3de17-fc92-45d2-d185-f4b631339d47"
      },
      "execution_count": 51,
      "outputs": [
        {
          "output_type": "execute_result",
          "data": {
            "text/plain": [
              "[[0, 3, 6, 9, 12, 15, 18]]"
            ]
          },
          "metadata": {},
          "execution_count": 51
        }
      ]
    },
    {
      "cell_type": "code",
      "source": [
        "L[0:6] #slice"
      ],
      "metadata": {
        "colab": {
          "base_uri": "https://localhost:8080/"
        },
        "id": "678gSQhNyWGI",
        "outputId": "7b3284a5-9ee6-43ed-bf87-fb9d8f988669"
      },
      "execution_count": 54,
      "outputs": [
        {
          "output_type": "execute_result",
          "data": {
            "text/plain": [
              "[0, 1, 2, 3, 4, 5]"
            ]
          },
          "metadata": {},
          "execution_count": 54
        }
      ]
    },
    {
      "cell_type": "code",
      "source": [
        "L[0::20]"
      ],
      "metadata": {
        "colab": {
          "base_uri": "https://localhost:8080/"
        },
        "id": "W2zftvyfynTt",
        "outputId": "81c169c4-4680-48ca-8f63-5b31663cca39"
      },
      "execution_count": 55,
      "outputs": [
        {
          "output_type": "execute_result",
          "data": {
            "text/plain": [
              "[0, 20]"
            ]
          },
          "metadata": {},
          "execution_count": 55
        }
      ]
    }
  ]
}